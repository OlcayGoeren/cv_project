{
 "cells": [
  {
   "cell_type": "markdown",
   "metadata": {},
   "source": [
    "### Body Segementation MADS - Dataset - Accurancy 90%\n",
    "#### https://www.kaggle.com/tapakah68/segmentation-full-body-mads-dataset\n",
    "inspired https://github.com/qubvel/segmentation_models.pytorch/blob/master/examples/cars%20segmentation%20(camvid).ipynb"
   ]
  },
  {
   "cell_type": "markdown",
   "metadata": {},
   "source": [
    "### Dataset\n"
   ]
  },
  {
   "cell_type": "code",
   "execution_count": 1,
   "metadata": {},
   "outputs": [],
   "source": [
    "from torch.utils.data import Dataset"
   ]
  },
  {
   "cell_type": "code",
   "execution_count": 2,
   "metadata": {},
   "outputs": [],
   "source": [
    "class BodyDataset(Dataset):\n",
    "    def __init__(\n",
    "            self,\n",
    "            images_dir,\n",
    "            masks_dir,\n",
    "            x_dataset,\n",
    "            augmentation=None,\n",
    "            preprocessing=None,\n",
    "    ):\n",
    "\n",
    "        self.x_dataset = x_dataset\n",
    "        self.images_dir = images_dir\n",
    "        self.masks_dir = masks_dir\n",
    "        self.class_values = [0]\n",
    "        self.augmentation = augmentation\n",
    "        self.preprocessing = preprocessing\n",
    "\n",
    "    def __getitem__(self, i):\n",
    "        # read data\n",
    "        image = cv2.imread(os.path.join(\n",
    "            self.images_dir, self.x_dataset[i]))\n",
    "        image = cv2.cvtColor(image, cv2.COLOR_BGR2RGB)\n",
    "        mask = cv2.imread(os.path.join(\n",
    "            self.masks_dir, self.x_dataset[i]))\n",
    "        mask = cv2.cvtColor(mask, cv2.COLOR_BGR2RGB)\n",
    "\n",
    "        # apply augmentations\n",
    "        if self.augmentation:\n",
    "            sample = self.augmentation(image=image, mask=mask)\n",
    "            image, mask = sample['image'], sample['mask']\n",
    "\n",
    "        # apply preprocessing\n",
    "        if self.preprocessing:\n",
    "            sample = self.preprocessing(image=image, mask=mask)\n",
    "            image, mask = sample['image'], sample['mask']\n",
    "\n",
    "        return image, mask\n",
    "\n",
    "    def __len__(self):\n",
    "        return len(self.x_dataset)\n",
    "\n"
   ]
  },
  {
   "cell_type": "markdown",
   "metadata": {},
   "source": [
    "### Helper"
   ]
  },
  {
   "cell_type": "code",
   "execution_count": 3,
   "metadata": {},
   "outputs": [],
   "source": [
    "def visualize(**images):\n",
    "    n_images = len(images)\n",
    "    plt.figure(figsize=(20, 8))\n",
    "    for idx, (name, image) in enumerate(images.items()):\n",
    "        plt.subplot(1, n_images, idx + 1)\n",
    "        plt.xticks([])\n",
    "        plt.yticks([])\n",
    "        # get title from the parameter names\n",
    "        plt.title(name.replace('_', ' ').title(), fontsize=20)\n",
    "        plt.imshow(image)\n",
    "    plt.show()"
   ]
  },
  {
   "cell_type": "markdown",
   "metadata": {},
   "source": [
    "### Preprocessing "
   ]
  },
  {
   "cell_type": "code",
   "execution_count": 4,
   "metadata": {},
   "outputs": [],
   "source": [
    "import albumentations as albu"
   ]
  },
  {
   "cell_type": "code",
   "execution_count": 5,
   "metadata": {},
   "outputs": [],
   "source": [
    "def to_tensor(x, **kwargs):\n",
    "    return x.transpose(2, 0, 1).astype('float32')\n",
    "\n",
    "\n",
    "def get_preprocessing(preprocessing_fn):\n",
    "    _transform = [\n",
    "        albu.Lambda(image=preprocessing_fn),\n",
    "        albu.Lambda(image=to_tensor, mask=to_tensor),\n",
    "    ]\n",
    "    return albu.Compose(_transform)\n"
   ]
  },
  {
   "cell_type": "markdown",
   "metadata": {},
   "source": [
    "### Dataset location"
   ]
  },
  {
   "cell_type": "code",
   "execution_count": 7,
   "metadata": {},
   "outputs": [],
   "source": [
    "import os"
   ]
  },
  {
   "cell_type": "code",
   "execution_count": 8,
   "metadata": {},
   "outputs": [],
   "source": [
    "IMAGES_DIR = './bodies/images/'\n",
    "MASKS_DIR = './bodies/masks/'\n",
    "full_dataset = next(os.walk(\n",
    "    './bodies/images'))[2]\n"
   ]
  },
  {
   "cell_type": "markdown",
   "metadata": {},
   "source": [
    "### Define Model"
   ]
  },
  {
   "cell_type": "code",
   "execution_count": 11,
   "metadata": {},
   "outputs": [],
   "source": [
    "import segmentation_models_pytorch as smp\n",
    "import torch"
   ]
  },
  {
   "cell_type": "code",
   "execution_count": 19,
   "metadata": {},
   "outputs": [],
   "source": [
    "ENCODER = 'mobilenet_v2'\n",
    "ENCODER_WEIGHTS = 'imagenet'\n",
    "DEVICE = 'cpu'\n",
    "\n",
    "\n",
    "model = smp.DeepLabV3Plus(\n",
    "    encoder_name=ENCODER,\n",
    "    encoder_weights= ENCODER_WEIGHTS,\n",
    "    activation=torch.nn.ReLU,\n",
    "    classes=1,\n",
    "    decoder_atrous_rates=(6, 12, 18)\n",
    ")\n",
    "preprocessing_fn = smp.encoders.get_preprocessing_fn(ENCODER, ENCODER_WEIGHTS)"
   ]
  },
  {
   "cell_type": "markdown",
   "metadata": {},
   "source": [
    "### Split Dataset to traindataset, validdataset"
   ]
  },
  {
   "cell_type": "code",
   "execution_count": 22,
   "metadata": {},
   "outputs": [],
   "source": [
    "from torch.utils.data import random_split"
   ]
  },
  {
   "cell_type": "code",
   "execution_count": 24,
   "metadata": {},
   "outputs": [],
   "source": [
    "train_size = int(0.8 * len(full_dataset))\n",
    "valid_size = len(full_dataset) - train_size\n",
    "train_dataset, valid_dataset = random_split(\n",
    "    full_dataset, [train_size, valid_size])"
   ]
  },
  {
   "cell_type": "markdown",
   "metadata": {},
   "source": [
    "### Create Dataset & Dataloader"
   ]
  },
  {
   "cell_type": "code",
   "execution_count": 26,
   "metadata": {},
   "outputs": [],
   "source": [
    "from torch.utils.data import DataLoader"
   ]
  },
  {
   "cell_type": "code",
   "execution_count": 27,
   "metadata": {},
   "outputs": [],
   "source": [
    "train_dataset = BodyDataset(IMAGES_DIR, MASKS_DIR,\n",
    "                            train_dataset, preprocessing=get_preprocessing(preprocessing_fn))\n",
    "\n",
    "\n",
    "valid_dataset = BodyDataset(IMAGES_DIR, MASKS_DIR,\n",
    "                            valid_dataset, preprocessing=get_preprocessing(preprocessing_fn))\n",
    "\n",
    "\n",
    "train_loader = DataLoader(train_dataset, batch_size=15,\n",
    "                          shuffle=True, num_workers=4)\n",
    "valid_loader = DataLoader(valid_dataset, batch_size=1,\n",
    "                          shuffle=False, num_workers=4)"
   ]
  },
  {
   "cell_type": "markdown",
   "metadata": {},
   "source": [
    "### Define loss, metrtics, optimizer"
   ]
  },
  {
   "cell_type": "code",
   "execution_count": 29,
   "metadata": {},
   "outputs": [],
   "source": [
    "loss = smp.utils.losses.DiceLoss()\n",
    "metrics = [\n",
    "    smp.utils.metrics.Accuracy(threshold=0.5),\n",
    "]\n",
    "\n",
    "optimizer = torch.optim.Adam([\n",
    "    dict(params=model.parameters(), lr=0.0001),\n",
    "])\n",
    "\n",
    "train_epoch = smp.utils.train.TrainEpoch(\n",
    "    model,\n",
    "    loss=loss,\n",
    "    metrics=metrics,\n",
    "    optimizer=optimizer,\n",
    "    device=DEVICE,\n",
    "    verbose=True,\n",
    ")\n",
    "\n",
    "valid_epoch = smp.utils.train.ValidEpoch(\n",
    "    model,\n",
    "    loss=loss,\n",
    "    metrics=metrics,\n",
    "    device=DEVICE,\n",
    "    verbose=True,\n",
    ")"
   ]
  },
  {
   "cell_type": "markdown",
   "metadata": {},
   "source": [
    "### Train Model"
   ]
  },
  {
   "cell_type": "code",
   "execution_count": 32,
   "metadata": {},
   "outputs": [
    {
     "ename": "SyntaxError",
     "evalue": "unexpected EOF while parsing (<ipython-input-32-5afbe032a8f0>, line 13)",
     "output_type": "error",
     "traceback": [
      "\u001b[1;36m  File \u001b[1;32m\"<ipython-input-32-5afbe032a8f0>\"\u001b[1;36m, line \u001b[1;32m13\u001b[0m\n\u001b[1;33m    #         print('Model saved!')\u001b[0m\n\u001b[1;37m                                   ^\u001b[0m\n\u001b[1;31mSyntaxError\u001b[0m\u001b[1;31m:\u001b[0m unexpected EOF while parsing\n"
     ]
    }
   ],
   "source": [
    "if __name__ == \"__main__\":\n",
    "#     max_score = 0\n",
    "\n",
    "#     for i in range(0, 8):\n",
    "#         print('\\nEpoch: {}'.format(i))\n",
    "#     train_logs = train_epoch.run(train_loader)\n",
    "#     valid_logs = valid_epoch.run(valid_loader)\n",
    "\n",
    "#     # do something (save model, change lr, etc.)\n",
    "#     if max_score < valid_logs['iou_score']:\n",
    "#         max_score = valid_logs['iou_score']\n",
    "#         torch.save(model, './second_best_model.pth')\n",
    "#         print('Model saved!')"
   ]
  },
  {
   "cell_type": "markdown",
   "metadata": {},
   "source": [
    "### Test Model"
   ]
  },
  {
   "cell_type": "code",
   "execution_count": 35,
   "metadata": {},
   "outputs": [],
   "source": [
    "    test_dir_imgs = \"./bodies/test/images\"\n",
    "    test_dir_masks = \"./bodies/test/mask\"\n",
    "    full_testdataset = next(os.walk('./bodies/test/images'))[2]\n",
    "    test_dataset_withpre = BodyDataset(\n",
    "        test_dir_imgs, test_dir_masks, full_testdataset, preprocessing=get_preprocessing(preprocessing_fn))\n",
    "    test_dataset_withoutpre = BodyDataset(\n",
    "        test_dir_imgs, test_dir_masks, full_testdataset)\n",
    "    best_model = torch.load('./best_model.pth')\n",
    "    test_loader = DataLoader(test_dataset_withpre, batch_size=1,\n",
    "                             shuffle=False, num_workers=2)\n",
    "    test_epoch = smp.utils.train.ValidEpoch(\n",
    "        model=best_model,\n",
    "        loss=loss,\n",
    "        metrics=metrics,\n",
    "        device=DEVICE,\n",
    "    )\n",
    "#     logs = test_epoch.run(test_loader)"
   ]
  },
  {
   "cell_type": "markdown",
   "metadata": {},
   "source": [
    "### Visualize Data"
   ]
  },
  {
   "cell_type": "code",
   "execution_count": 37,
   "metadata": {},
   "outputs": [],
   "source": [
    "import numpy as np"
   ]
  },
  {
   "cell_type": "code",
   "execution_count": 36,
   "metadata": {},
   "outputs": [
    {
     "ename": "NameError",
     "evalue": "name 'np' is not defined",
     "output_type": "error",
     "traceback": [
      "\u001b[1;31m---------------------------------------------------------------------------\u001b[0m",
      "\u001b[1;31mNameError\u001b[0m                                 Traceback (most recent call last)",
      "\u001b[1;32m<ipython-input-36-735ba667c40c>\u001b[0m in \u001b[0;36m<module>\u001b[1;34m\u001b[0m\n\u001b[0;32m      1\u001b[0m \u001b[1;32mfor\u001b[0m \u001b[0mi\u001b[0m \u001b[1;32min\u001b[0m \u001b[0mrange\u001b[0m\u001b[1;33m(\u001b[0m\u001b[1;36m5\u001b[0m\u001b[1;33m)\u001b[0m\u001b[1;33m:\u001b[0m\u001b[1;33m\u001b[0m\u001b[1;33m\u001b[0m\u001b[0m\n\u001b[1;32m----> 2\u001b[1;33m     \u001b[0mn\u001b[0m \u001b[1;33m=\u001b[0m \u001b[0mnp\u001b[0m\u001b[1;33m.\u001b[0m\u001b[0mrandom\u001b[0m\u001b[1;33m.\u001b[0m\u001b[0mchoice\u001b[0m\u001b[1;33m(\u001b[0m\u001b[0mlen\u001b[0m\u001b[1;33m(\u001b[0m\u001b[0mtest_dataset_withpre\u001b[0m\u001b[1;33m)\u001b[0m\u001b[1;33m)\u001b[0m\u001b[1;33m\u001b[0m\u001b[1;33m\u001b[0m\u001b[0m\n\u001b[0m\u001b[0;32m      3\u001b[0m     \u001b[0mimage_vis\u001b[0m \u001b[1;33m=\u001b[0m \u001b[0mtest_dataset_withpre\u001b[0m\u001b[1;33m[\u001b[0m\u001b[0mn\u001b[0m\u001b[1;33m]\u001b[0m\u001b[1;33m[\u001b[0m\u001b[1;36m0\u001b[0m\u001b[1;33m]\u001b[0m\u001b[1;33m.\u001b[0m\u001b[0mastype\u001b[0m\u001b[1;33m(\u001b[0m\u001b[1;34m'uint8'\u001b[0m\u001b[1;33m)\u001b[0m\u001b[1;33m\u001b[0m\u001b[1;33m\u001b[0m\u001b[0m\n\u001b[0;32m      4\u001b[0m     \u001b[0mimage\u001b[0m\u001b[1;33m,\u001b[0m \u001b[0mgt_mask\u001b[0m \u001b[1;33m=\u001b[0m \u001b[0mtest_dataset_withpre\u001b[0m\u001b[1;33m[\u001b[0m\u001b[0mn\u001b[0m\u001b[1;33m]\u001b[0m\u001b[1;33m\u001b[0m\u001b[1;33m\u001b[0m\u001b[0m\n\u001b[0;32m      5\u001b[0m \u001b[1;33m\u001b[0m\u001b[0m\n",
      "\u001b[1;31mNameError\u001b[0m: name 'np' is not defined"
     ]
    }
   ],
   "source": [
    "    for i in range(5):\n",
    "        n = np.random.choice(len(test_dataset_withpre))\n",
    "        image_vis = test_dataset_withpre[n][0].astype('uint8')\n",
    "        image, gt_mask = test_dataset_withpre[n]\n",
    "\n",
    "        gt_mask = gt_mask.squeeze()\n",
    "        x_tensor = torch.from_numpy(image).to(DEVICE).unsqueeze(0)\n",
    "        pr_mask = best_model.predict(x_tensor)\n",
    "        pr_mask = (pr_mask.squeeze().cpu().numpy().round())\n",
    "\n",
    "        image, mask = test_dataset_withoutpre[n]\n",
    "\n",
    "        visualize(\n",
    "            image=image,\n",
    "            ground_truth_mask=mask,\n",
    "            predicted_mask=pr_mask\n",
    "        )"
   ]
  },
  {
   "cell_type": "markdown",
   "metadata": {},
   "source": [
    "![title](train_results/res1.png)\n",
    "![title](train_results/res2.png)\n",
    "![title](train_results/res3.png)\n",
    "![title](train_results/res4.png)\n",
    "![title](train_results/res5.png)"
   ]
  }
 ],
 "metadata": {
  "kernelspec": {
   "display_name": "Python 3",
   "language": "python",
   "name": "python3"
  },
  "language_info": {
   "codemirror_mode": {
    "name": "ipython",
    "version": 3
   },
   "file_extension": ".py",
   "mimetype": "text/x-python",
   "name": "python",
   "nbconvert_exporter": "python",
   "pygments_lexer": "ipython3",
   "version": "3.8.5"
  }
 },
 "nbformat": 4,
 "nbformat_minor": 4
}
